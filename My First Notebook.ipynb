{
 "cells": [
  {
   "cell_type": "markdown",
   "metadata": {},
   "source": [
    "# My Jupyter Notebook on IBM Data Science Experience\n"
   ]
  },
  {
   "cell_type": "markdown",
   "metadata": {},
   "source": [
    "**Karen McEwen**  \n",
    "Data Analysis"
   ]
  },
  {
   "cell_type": "markdown",
   "metadata": {},
   "source": [
    "*I am interested in data analysis today because I have a Master's Degree in Applied Mathematics and used to do data analysis many years ago.  Now the tools are so much better, and we can get so much more information out of the reams of data that are collected.  Also, the pay is better than my current occupation.*"
   ]
  },
  {
   "cell_type": "markdown",
   "metadata": {},
   "source": [
    "### The next cell will add the numbers 2 and 3 ###"
   ]
  },
  {
   "cell_type": "code",
   "execution_count": 34,
   "metadata": {},
   "outputs": [
    {
     "data": {
      "text/plain": [
       "5"
      ]
     },
     "execution_count": 34,
     "metadata": {},
     "output_type": "execute_result"
    }
   ],
   "source": [
    "2+3"
   ]
  },
  {
   "cell_type": "markdown",
   "metadata": {},
   "source": [
    "### Numbered list of my favorite programming languages ###\n",
    "1. Python\n",
    "2. C#\n",
    "3. javascript\n",
    "\n",
    "### Block quote\n",
    "> Our greatest weakness lies in giving up. The most certain way to succeed is always to try just one more time.” – Thomas A. Edison\n",
    "\n",
    "### Unordered list of my current reading\n",
    "- *Python Crash Course* by Eric Matthes\n",
    "- *Practical SQL* by Anthony DeBarros\n",
    "\n",
    "### Table ###  \n",
    "##### remember to use spaces (1 between pipes and 2 at end for new line) and the line of dashes for the table to correctly format #####\n",
    "| planet | number from the sun | \n",
    "|------- | ---------- |  \n",
    "| Mercury | 1 |  \n",
    "| Earth | 3 |  \n",
    "| Mars | 4 |  \n",
    "| Neptune | 8 |  \n",
    "\n",
    "\n",
    "### Hyperlink ###  \n",
    "[source for planet information](https://www.universetoday.com/72305/order-of-the-planets-from-the-sun/)\n",
    "\n",
    "### Graphic ###\n",
    "![planets](https://www.universetoday.com/wp-content/uploads/2009/06/dn9824-1_831.jpg)"
   ]
  },
  {
   "cell_type": "code",
   "execution_count": null,
   "metadata": {},
   "outputs": [],
   "source": []
  }
 ],
 "metadata": {
  "kernelspec": {
   "display_name": "Python 3.6 with Spark",
   "language": "python3",
   "name": "python36"
  },
  "language_info": {
   "codemirror_mode": {
    "name": "ipython",
    "version": 3
   },
   "file_extension": ".py",
   "mimetype": "text/x-python",
   "name": "python",
   "nbconvert_exporter": "python",
   "pygments_lexer": "ipython3",
   "version": "3.6.8"
  }
 },
 "nbformat": 4,
 "nbformat_minor": 1
}
